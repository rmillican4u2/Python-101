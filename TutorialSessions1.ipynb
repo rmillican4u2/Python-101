{
 "cells": [
  {
   "cell_type": "code",
   "execution_count": 13,
   "id": "e2be6739",
   "metadata": {},
   "outputs": [
    {
     "name": "stdout",
     "output_type": "stream",
     "text": [
      "the  a  character has  2\n",
      "the  ;  character has  1\n",
      "the  l  character has  2\n",
      "the  s  character has  2\n",
      "the  k  character has  2\n",
      "the  d  character has  2\n",
      "the  j  character has  2\n",
      "the  f  character has  2\n",
      "the  l  character has  2\n",
      "the  k  character has  2\n",
      "the  j  character has  2\n",
      "the  a  character has  2\n",
      "the  s  character has  2\n",
      "the  d  character has  2\n",
      "the  f  character has  2\n"
     ]
    }
   ],
   "source": [
    "def strsearch(str1):\n",
    "    beenthru = []\n",
    "    counter = 0\n",
    "    for i in str1:\n",
    "        if i not in beenthru:\n",
    "            for j in str1:\n",
    "                if j==i:\n",
    "                    counter +=1\n",
    "            beenthru.append((i, counter))\n",
    "            print(\"the \", i , \" character has \", counter)\n",
    "            counter = 0\n",
    "        \n",
    "mystring = \"a;lskdjflkjasdf\"\n",
    "\n",
    "strsearch(mystring)"
   ]
  },
  {
   "cell_type": "code",
   "execution_count": null,
   "id": "a4da4cb8",
   "metadata": {},
   "outputs": [],
   "source": [
    "print(beenthru)"
   ]
  },
  {
   "cell_type": "code",
   "execution_count": 4,
   "id": "3734f1d4",
   "metadata": {},
   "outputs": [
    {
     "name": "stdout",
     "output_type": "stream",
     "text": [
      "{'t': 2, 'h': 1, 'i': 3, 's': 3, ' ': 3, 'm': 1, 'y': 1, 'r': 1, 'n': 1, 'g': 1}\n"
     ]
    }
   ],
   "source": [
    "# same program using dictionaries\n",
    "\n",
    "myStr = \"this is my string\"\n",
    "\n",
    "def charCount(str1):\n",
    "    dct1 = {}\n",
    "    for n in str:\n",
    "        keys = dct1.keys()\n",
    "        if n in keys:\n",
    "            dct1[n] += 1\n",
    "        else:\n",
    "            dct1[n] = 1\n",
    "    print (dct1) \n",
    "    \n",
    "charCount(myStr)    "
   ]
  },
  {
   "cell_type": "code",
   "execution_count": 11,
   "id": "4a0b5152",
   "metadata": {},
   "outputs": [
    {
     "name": "stdout",
     "output_type": "stream",
     "text": [
      "{'t': 2, 'h': 1, 'i': 3, 's': 3, ' ': 3, 'm': 1, 'y': 1, 'r': 1, 'n': 1, 'g': 1}\n"
     ]
    },
    {
     "data": {
      "text/plain": [
       "{'t': 2,\n",
       " 'h': 1,\n",
       " 'i': 3,\n",
       " 's': 3,\n",
       " ' ': 3,\n",
       " 'm': 1,\n",
       " 'y': 1,\n",
       " 'r': 1,\n",
       " 'n': 1,\n",
       " 'g': 1}"
      ]
     },
     "execution_count": 11,
     "metadata": {},
     "output_type": "execute_result"
    }
   ],
   "source": [
    "myStr = \"this is my string\"\n",
    "\n",
    "def charCount(str1):\n",
    "    myDict1 = {}\n",
    "    for x in str1: \n",
    "        keys = myDict1.keys()\n",
    "        if x in keys:\n",
    "            myDict1[x] += 1\n",
    "        else:\n",
    "            myDict1[x] = 1\n",
    "    print(myDict1)\n",
    "    return(myDict1)\n",
    "charCount(myStr)\n",
    "\n",
    "\n"
   ]
  },
  {
   "cell_type": "code",
   "execution_count": 3,
   "id": "f4333c44",
   "metadata": {},
   "outputs": [
    {
     "name": "stdout",
     "output_type": "stream",
     "text": [
      "{'t': 2, 'h': 1, 'i': 3, 's': 3, ' ': 3, 'm': 1, 'y': 1, 'r': 1, 'n': 1, 'g': 1}\n"
     ]
    }
   ],
   "source": [
    "myStr=\"this is my string\"\n",
    "\n",
    "def myCharCount(str):\n",
    "    dict = {}\n",
    "    for n in str:\n",
    "        if n in dict:\n",
    "            dict[n] += 1\n",
    "        else:\n",
    "            dict[n] = 1\n",
    "    print (dict)\n",
    "            \n",
    "            \n",
    "myCharCount(myStr)            \n"
   ]
  },
  {
   "cell_type": "code",
   "execution_count": null,
   "id": "38761c48",
   "metadata": {},
   "outputs": [],
   "source": []
  }
 ],
 "metadata": {
  "kernelspec": {
   "display_name": "Python 3 (ipykernel)",
   "language": "python",
   "name": "python3"
  },
  "language_info": {
   "codemirror_mode": {
    "name": "ipython",
    "version": 3
   },
   "file_extension": ".py",
   "mimetype": "text/x-python",
   "name": "python",
   "nbconvert_exporter": "python",
   "pygments_lexer": "ipython3",
   "version": "3.10.5"
  }
 },
 "nbformat": 4,
 "nbformat_minor": 5
}
